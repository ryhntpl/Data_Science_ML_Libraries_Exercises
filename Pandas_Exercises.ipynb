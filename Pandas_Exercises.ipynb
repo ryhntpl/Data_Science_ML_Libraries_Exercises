{
  "nbformat": 4,
  "nbformat_minor": 0,
  "metadata": {
    "colab": {
      "provenance": [],
      "authorship_tag": "ABX9TyNdOKOb7kbJqLf55E8+PkPh",
      "include_colab_link": true
    },
    "kernelspec": {
      "name": "python3",
      "display_name": "Python 3"
    },
    "language_info": {
      "name": "python"
    }
  },
  "cells": [
    {
      "cell_type": "markdown",
      "metadata": {
        "id": "view-in-github",
        "colab_type": "text"
      },
      "source": [
        "<a href=\"https://colab.research.google.com/github/ryhntpl/data_science_ml_libraries/blob/main/Pandas_Exercises.ipynb\" target=\"_parent\"><img src=\"https://colab.research.google.com/assets/colab-badge.svg\" alt=\"Open In Colab\"/></a>"
      ]
    },
    {
      "cell_type": "code",
      "source": [
        "## Bir DataFrame'in satır ve sütun sayısını nasıl bulabilirsiniz?"
      ],
      "metadata": {
        "id": "MWW5acN0dUSh"
      },
      "execution_count": null,
      "outputs": []
    },
    {
      "cell_type": "code",
      "source": [
        "import seaborn as sns\n",
        "\n",
        "# 'tips' veri kümesini yükle\n",
        "tips = sns.load_dataset('tips')\n",
        "\n",
        "print (tips)\n",
        "\n"
      ],
      "metadata": {
        "colab": {
          "base_uri": "https://localhost:8080/"
        },
        "id": "01cKzBvywC7O",
        "outputId": "d12c903f-9fc7-42a7-de72-118347fa858e"
      },
      "execution_count": null,
      "outputs": [
        {
          "output_type": "stream",
          "name": "stdout",
          "text": [
            "     total_bill   tip     sex smoker   day    time  size\n",
            "0         16.99  1.01  Female     No   Sun  Dinner     2\n",
            "1         10.34  1.66    Male     No   Sun  Dinner     3\n",
            "2         21.01  3.50    Male     No   Sun  Dinner     3\n",
            "3         23.68  3.31    Male     No   Sun  Dinner     2\n",
            "4         24.59  3.61  Female     No   Sun  Dinner     4\n",
            "..          ...   ...     ...    ...   ...     ...   ...\n",
            "239       29.03  5.92    Male     No   Sat  Dinner     3\n",
            "240       27.18  2.00  Female    Yes   Sat  Dinner     2\n",
            "241       22.67  2.00    Male    Yes   Sat  Dinner     2\n",
            "242       17.82  1.75    Male     No   Sat  Dinner     2\n",
            "243       18.78  3.00  Female     No  Thur  Dinner     2\n",
            "\n",
            "[244 rows x 7 columns]\n"
          ]
        }
      ]
    },
    {
      "cell_type": "code",
      "source": [
        "num_rows=tips.shape[0]\n",
        "num_cols=tips.shape[1]\n",
        "\n",
        "print('Number of rows:', num_rows)\n",
        "print('Number of columns:', num_cols)"
      ],
      "metadata": {
        "colab": {
          "base_uri": "https://localhost:8080/"
        },
        "id": "YJY6upG6xxYE",
        "outputId": "df183520-ab60-4d69-daf7-abf5b2bea0dd"
      },
      "execution_count": null,
      "outputs": [
        {
          "output_type": "stream",
          "name": "stdout",
          "text": [
            "Number of rows: 244\n",
            "Number of columns: 7\n"
          ]
        }
      ]
    },
    {
      "cell_type": "code",
      "source": [
        "# 1.Çözüm"
      ],
      "metadata": {
        "id": "782Zdx2jgPxq"
      },
      "execution_count": null,
      "outputs": []
    },
    {
      "cell_type": "code",
      "source": [
        "import pandas as pd\n",
        "\n",
        "\n",
        "data = {'name': ['Rey', 'Mer', 'Ece'], 'age': [25, 23, 24], 'city': ['Berlin', 'Sydney', 'Bali']}\n",
        "df = pd.DataFrame(data)\n",
        "\n",
        "\n",
        "num_rows = df.shape[0]\n",
        "num_cols = df.shape[1]\n",
        "\n",
        "print('Number of rows:', num_rows)\n",
        "print('Number of columns:', num_cols)\n"
      ],
      "metadata": {
        "id": "UNj52ZEweM8G",
        "colab": {
          "base_uri": "https://localhost:8080/"
        },
        "outputId": "887d00d6-f5ec-42f0-a0e3-4d2b952e159d"
      },
      "execution_count": null,
      "outputs": [
        {
          "output_type": "stream",
          "name": "stdout",
          "text": [
            "Number of rows: 3\n",
            "Number of columns: 3\n"
          ]
        }
      ]
    },
    {
      "cell_type": "code",
      "source": [
        "# 2. Çözüm"
      ],
      "metadata": {
        "id": "VMinvzwfftl-"
      },
      "execution_count": null,
      "outputs": []
    },
    {
      "cell_type": "code",
      "source": [
        "import pandas as pd\n",
        "\n",
        "\n",
        "data = {'name': ['Lil', 'Alya', 'Rey'], 'age': [25, 30, 35], 'city': ['Bali', 'Köln', 'Talinn']}\n",
        "df = pd.DataFrame(data)\n",
        "\n",
        "num_rows = len(df)\n",
        "num_cols = len(df.columns)\n",
        "\n",
        "print('Number of rows:', num_rows)\n",
        "print('Number of columns:', num_cols)"
      ],
      "metadata": {
        "id": "2V4GHjbOggzO",
        "colab": {
          "base_uri": "https://localhost:8080/"
        },
        "outputId": "ccf2f962-4262-4b5e-e7bc-c65eefb1c60a"
      },
      "execution_count": null,
      "outputs": [
        {
          "output_type": "stream",
          "name": "stdout",
          "text": [
            "Number of rows: 3\n",
            "Number of columns: 3\n"
          ]
        }
      ]
    },
    {
      "cell_type": "code",
      "source": [
        "## Bir DataFrame'deki belirli bir sütunu nasıl seçersiniz?(tip column seciniz)\n"
      ],
      "metadata": {
        "id": "vy-EA2zghapf"
      },
      "execution_count": null,
      "outputs": []
    },
    {
      "cell_type": "code",
      "source": [
        "import seaborn as sns\n",
        "\n",
        "# 'tips' veri kümesini yükle\n",
        "tips = sns.load_dataset('tips')\n",
        "tips\n",
        "\n",
        "print(tips.shape)\n",
        "print(tips[\"tip\"])\n",
        "\n"
      ],
      "metadata": {
        "colab": {
          "base_uri": "https://localhost:8080/"
        },
        "id": "cdT9Xi-xzIRh",
        "outputId": "c0be1324-6731-4408-80d4-256f36c8ab7e"
      },
      "execution_count": null,
      "outputs": [
        {
          "output_type": "stream",
          "name": "stdout",
          "text": [
            "(244, 7)\n",
            "0      1.01\n",
            "1      1.66\n",
            "2      3.50\n",
            "3      3.31\n",
            "4      3.61\n",
            "       ... \n",
            "239    5.92\n",
            "240    2.00\n",
            "241    2.00\n",
            "242    1.75\n",
            "243    3.00\n",
            "Name: tip, Length: 244, dtype: float64\n"
          ]
        }
      ]
    },
    {
      "cell_type": "code",
      "source": [
        "import pandas as pd\n",
        "\n",
        "df = pd.read_csv('tips.csv')\n",
        "df\n",
        "print(df)\n",
        "print(df.shape)\n",
        "print(data_frame[\"tip\"])\n",
        "\n"
      ],
      "metadata": {
        "id": "IOrIDjQouZsf"
      },
      "execution_count": null,
      "outputs": []
    },
    {
      "cell_type": "code",
      "source": [
        "## Bir DataFrame'deki belirli bir satırı nasıl seçersiniz?(15.satir)"
      ],
      "metadata": {
        "id": "BKqUu6X42se4"
      },
      "execution_count": null,
      "outputs": []
    },
    {
      "cell_type": "code",
      "source": [
        "import seaborn as sns\n",
        "\n",
        "# 'tips' veri kümesini yükle\n",
        "tips = sns.load_dataset('tips')\n",
        "tips\n",
        "\n",
        "tips.loc[14]\n"
      ],
      "metadata": {
        "id": "vmIQJ1273wBL",
        "colab": {
          "base_uri": "https://localhost:8080/"
        },
        "outputId": "02fe5af5-303a-44a5-8929-6f94a7536705"
      },
      "execution_count": null,
      "outputs": [
        {
          "output_type": "execute_result",
          "data": {
            "text/plain": [
              "total_bill     14.83\n",
              "tip             3.02\n",
              "sex           Female\n",
              "smoker            No\n",
              "day              Sun\n",
              "time          Dinner\n",
              "size               2\n",
              "Name: 14, dtype: object"
            ]
          },
          "metadata": {},
          "execution_count": 25
        }
      ]
    },
    {
      "cell_type": "code",
      "source": [],
      "metadata": {
        "id": "gFUnN80I2YPI"
      },
      "execution_count": null,
      "outputs": []
    },
    {
      "cell_type": "code",
      "source": [
        "import seaborn as sns\n",
        "\n",
        "# 'tips' veri kümesini yükle\n",
        "tips = sns.load_dataset('tips')\n",
        "tips\n",
        "\n",
        "tips.loc[14, \"tip\"]"
      ],
      "metadata": {
        "colab": {
          "base_uri": "https://localhost:8080/"
        },
        "outputId": "117a1d89-41a3-47a8-ed42-650317840570",
        "id": "-OJ51OVF2Ytd"
      },
      "execution_count": null,
      "outputs": [
        {
          "output_type": "execute_result",
          "data": {
            "text/plain": [
              "3.02"
            ]
          },
          "metadata": {},
          "execution_count": 26
        }
      ]
    },
    {
      "cell_type": "code",
      "source": [
        "## Bir DataFrame'deki belirli bir satırın belirli bir sütunundaki değeri nasıl seçersiniz?\n",
        "(72.satir, columns=tip)\n",
        "\n",
        "#Burada, loc methodu, DataFrame'deki 72. satırın (etiket olarak 71 olan) \"tip\" sütununu seçer ve bir skaler değer olarak döndürür."
      ],
      "metadata": {
        "id": "OUj8UhoY34PP"
      },
      "execution_count": null,
      "outputs": []
    },
    {
      "cell_type": "code",
      "source": [
        "import seaborn as sns\n",
        "\n",
        "# 'tips' veri kümesini yükle\n",
        "tips = sns.load_dataset('tips')\n",
        "tips\n",
        "tips.loc[71, \"tip\"]\n",
        "\n"
      ],
      "metadata": {
        "id": "-uqz1Exf4Vq2",
        "colab": {
          "base_uri": "https://localhost:8080/"
        },
        "outputId": "a61b24a3-be20-4f3d-8ee6-41ea939bc6f8"
      },
      "execution_count": null,
      "outputs": [
        {
          "output_type": "execute_result",
          "data": {
            "text/plain": [
              "3.0"
            ]
          },
          "metadata": {},
          "execution_count": 41
        }
      ]
    },
    {
      "cell_type": "code",
      "source": [
        "## Bir DataFrame'deki tüm sütunların adlarını nasıl alırsınız?(columns)"
      ],
      "metadata": {
        "id": "SdO0u3Y15wAX"
      },
      "execution_count": null,
      "outputs": []
    },
    {
      "cell_type": "code",
      "source": [
        "df.columns\n",
        "\n",
        "#Eğer sütun adlarını bir liste olarak almak isterseniz, Index nesnesini listeye dönüştürebilirsiniz:\n",
        "\n",
        "list(df.columns)\n"
      ],
      "metadata": {
        "id": "PmhVskgD5xR9"
      },
      "execution_count": null,
      "outputs": []
    },
    {
      "cell_type": "code",
      "source": [
        "#Bir DataFrame'deki tüm sütunların veri tiplerini nasıl alırsınız?(dtypes)\n"
      ],
      "metadata": {
        "id": "-bjtDf456RQj"
      },
      "execution_count": null,
      "outputs": []
    },
    {
      "cell_type": "code",
      "source": [
        "import pandas as pd\n",
        "\n",
        "df = pd.DataFrame({'A': [1, 2, 3], 'B': [4.0, 5.0, 6.0], 'C': ['a', 'b', 'c']})\n",
        "print(df.dtypes)\n",
        "\n",
        "A      int64\n",
        "B    float64\n",
        "C     object\n",
        "dtype: object\n",
        "\n"
      ],
      "metadata": {
        "id": "GNn72-P56RbM"
      },
      "execution_count": null,
      "outputs": []
    },
    {
      "cell_type": "code",
      "source": [
        "import seaborn as sns\n",
        "\n",
        "# 'tips' veri kümesini yükle\n",
        "tips = sns.load_dataset('tips')\n",
        "tips\n",
        "print(tips.dtypes)\n"
      ],
      "metadata": {
        "colab": {
          "base_uri": "https://localhost:8080/"
        },
        "id": "JYhtVTbA4_Oe",
        "outputId": "eb1c8a26-d010-4845-d61d-403574b83c19"
      },
      "execution_count": null,
      "outputs": [
        {
          "output_type": "stream",
          "name": "stdout",
          "text": [
            "total_bill     float64\n",
            "tip            float64\n",
            "sex           category\n",
            "smoker        category\n",
            "day           category\n",
            "time          category\n",
            "size             int64\n",
            "dtype: object\n"
          ]
        }
      ]
    },
    {
      "cell_type": "code",
      "source": [
        "## Bir DataFrame'deki tüm satırların bir sütunundaki tekil değerleri nasıl\n",
        "alırsınız?(unique() methodunu kullaniniz)\n"
      ],
      "metadata": {
        "id": "-LWtAFUD74UX"
      },
      "execution_count": null,
      "outputs": []
    },
    {
      "cell_type": "code",
      "source": [
        "import pandas as pd\n",
        "\n",
        "# DataFrame'i oluştur\n",
        "df = pd.DataFrame({'A': [1, 2, 2, 3, 3], 'B': [4, 5, 6, 7, 8], 'C': ['a', 'b', 'a', 'c', 'c']})\n",
        "\n",
        "# 'C' sütunundaki tekil değerleri yazdır\n",
        "print(df['C'].unique())\n",
        "\n",
        "['a' 'b' 'c']\n"
      ],
      "metadata": {
        "id": "b8VC-i2i8Ivo"
      },
      "execution_count": null,
      "outputs": []
    },
    {
      "cell_type": "code",
      "source": [
        "import seaborn as sns\n",
        "\n",
        "# 'tips' veri kümesini yükle\n",
        "tips = sns.load_dataset('tips')\n",
        "tips\n"
      ],
      "metadata": {
        "colab": {
          "base_uri": "https://localhost:8080/",
          "height": 423
        },
        "outputId": "99772325-82c5-493f-dbbd-add6d9823435",
        "id": "6wnvjOpT6u_V"
      },
      "execution_count": null,
      "outputs": [
        {
          "output_type": "execute_result",
          "data": {
            "text/plain": [
              "     total_bill   tip     sex smoker   day    time  size\n",
              "0         16.99  1.01  Female     No   Sun  Dinner     2\n",
              "1         10.34  1.66    Male     No   Sun  Dinner     3\n",
              "2         21.01  3.50    Male     No   Sun  Dinner     3\n",
              "3         23.68  3.31    Male     No   Sun  Dinner     2\n",
              "4         24.59  3.61  Female     No   Sun  Dinner     4\n",
              "..          ...   ...     ...    ...   ...     ...   ...\n",
              "239       29.03  5.92    Male     No   Sat  Dinner     3\n",
              "240       27.18  2.00  Female    Yes   Sat  Dinner     2\n",
              "241       22.67  2.00    Male    Yes   Sat  Dinner     2\n",
              "242       17.82  1.75    Male     No   Sat  Dinner     2\n",
              "243       18.78  3.00  Female     No  Thur  Dinner     2\n",
              "\n",
              "[244 rows x 7 columns]"
            ],
            "text/html": [
              "\n",
              "  <div id=\"df-4aaca724-e707-4ffa-8a55-ddbce54318da\">\n",
              "    <div class=\"colab-df-container\">\n",
              "      <div>\n",
              "<style scoped>\n",
              "    .dataframe tbody tr th:only-of-type {\n",
              "        vertical-align: middle;\n",
              "    }\n",
              "\n",
              "    .dataframe tbody tr th {\n",
              "        vertical-align: top;\n",
              "    }\n",
              "\n",
              "    .dataframe thead th {\n",
              "        text-align: right;\n",
              "    }\n",
              "</style>\n",
              "<table border=\"1\" class=\"dataframe\">\n",
              "  <thead>\n",
              "    <tr style=\"text-align: right;\">\n",
              "      <th></th>\n",
              "      <th>total_bill</th>\n",
              "      <th>tip</th>\n",
              "      <th>sex</th>\n",
              "      <th>smoker</th>\n",
              "      <th>day</th>\n",
              "      <th>time</th>\n",
              "      <th>size</th>\n",
              "    </tr>\n",
              "  </thead>\n",
              "  <tbody>\n",
              "    <tr>\n",
              "      <th>0</th>\n",
              "      <td>16.99</td>\n",
              "      <td>1.01</td>\n",
              "      <td>Female</td>\n",
              "      <td>No</td>\n",
              "      <td>Sun</td>\n",
              "      <td>Dinner</td>\n",
              "      <td>2</td>\n",
              "    </tr>\n",
              "    <tr>\n",
              "      <th>1</th>\n",
              "      <td>10.34</td>\n",
              "      <td>1.66</td>\n",
              "      <td>Male</td>\n",
              "      <td>No</td>\n",
              "      <td>Sun</td>\n",
              "      <td>Dinner</td>\n",
              "      <td>3</td>\n",
              "    </tr>\n",
              "    <tr>\n",
              "      <th>2</th>\n",
              "      <td>21.01</td>\n",
              "      <td>3.50</td>\n",
              "      <td>Male</td>\n",
              "      <td>No</td>\n",
              "      <td>Sun</td>\n",
              "      <td>Dinner</td>\n",
              "      <td>3</td>\n",
              "    </tr>\n",
              "    <tr>\n",
              "      <th>3</th>\n",
              "      <td>23.68</td>\n",
              "      <td>3.31</td>\n",
              "      <td>Male</td>\n",
              "      <td>No</td>\n",
              "      <td>Sun</td>\n",
              "      <td>Dinner</td>\n",
              "      <td>2</td>\n",
              "    </tr>\n",
              "    <tr>\n",
              "      <th>4</th>\n",
              "      <td>24.59</td>\n",
              "      <td>3.61</td>\n",
              "      <td>Female</td>\n",
              "      <td>No</td>\n",
              "      <td>Sun</td>\n",
              "      <td>Dinner</td>\n",
              "      <td>4</td>\n",
              "    </tr>\n",
              "    <tr>\n",
              "      <th>...</th>\n",
              "      <td>...</td>\n",
              "      <td>...</td>\n",
              "      <td>...</td>\n",
              "      <td>...</td>\n",
              "      <td>...</td>\n",
              "      <td>...</td>\n",
              "      <td>...</td>\n",
              "    </tr>\n",
              "    <tr>\n",
              "      <th>239</th>\n",
              "      <td>29.03</td>\n",
              "      <td>5.92</td>\n",
              "      <td>Male</td>\n",
              "      <td>No</td>\n",
              "      <td>Sat</td>\n",
              "      <td>Dinner</td>\n",
              "      <td>3</td>\n",
              "    </tr>\n",
              "    <tr>\n",
              "      <th>240</th>\n",
              "      <td>27.18</td>\n",
              "      <td>2.00</td>\n",
              "      <td>Female</td>\n",
              "      <td>Yes</td>\n",
              "      <td>Sat</td>\n",
              "      <td>Dinner</td>\n",
              "      <td>2</td>\n",
              "    </tr>\n",
              "    <tr>\n",
              "      <th>241</th>\n",
              "      <td>22.67</td>\n",
              "      <td>2.00</td>\n",
              "      <td>Male</td>\n",
              "      <td>Yes</td>\n",
              "      <td>Sat</td>\n",
              "      <td>Dinner</td>\n",
              "      <td>2</td>\n",
              "    </tr>\n",
              "    <tr>\n",
              "      <th>242</th>\n",
              "      <td>17.82</td>\n",
              "      <td>1.75</td>\n",
              "      <td>Male</td>\n",
              "      <td>No</td>\n",
              "      <td>Sat</td>\n",
              "      <td>Dinner</td>\n",
              "      <td>2</td>\n",
              "    </tr>\n",
              "    <tr>\n",
              "      <th>243</th>\n",
              "      <td>18.78</td>\n",
              "      <td>3.00</td>\n",
              "      <td>Female</td>\n",
              "      <td>No</td>\n",
              "      <td>Thur</td>\n",
              "      <td>Dinner</td>\n",
              "      <td>2</td>\n",
              "    </tr>\n",
              "  </tbody>\n",
              "</table>\n",
              "<p>244 rows × 7 columns</p>\n",
              "</div>\n",
              "      <button class=\"colab-df-convert\" onclick=\"convertToInteractive('df-4aaca724-e707-4ffa-8a55-ddbce54318da')\"\n",
              "              title=\"Convert this dataframe to an interactive table.\"\n",
              "              style=\"display:none;\">\n",
              "        \n",
              "  <svg xmlns=\"http://www.w3.org/2000/svg\" height=\"24px\"viewBox=\"0 0 24 24\"\n",
              "       width=\"24px\">\n",
              "    <path d=\"M0 0h24v24H0V0z\" fill=\"none\"/>\n",
              "    <path d=\"M18.56 5.44l.94 2.06.94-2.06 2.06-.94-2.06-.94-.94-2.06-.94 2.06-2.06.94zm-11 1L8.5 8.5l.94-2.06 2.06-.94-2.06-.94L8.5 2.5l-.94 2.06-2.06.94zm10 10l.94 2.06.94-2.06 2.06-.94-2.06-.94-.94-2.06-.94 2.06-2.06.94z\"/><path d=\"M17.41 7.96l-1.37-1.37c-.4-.4-.92-.59-1.43-.59-.52 0-1.04.2-1.43.59L10.3 9.45l-7.72 7.72c-.78.78-.78 2.05 0 2.83L4 21.41c.39.39.9.59 1.41.59.51 0 1.02-.2 1.41-.59l7.78-7.78 2.81-2.81c.8-.78.8-2.07 0-2.86zM5.41 20L4 18.59l7.72-7.72 1.47 1.35L5.41 20z\"/>\n",
              "  </svg>\n",
              "      </button>\n",
              "      \n",
              "  <style>\n",
              "    .colab-df-container {\n",
              "      display:flex;\n",
              "      flex-wrap:wrap;\n",
              "      gap: 12px;\n",
              "    }\n",
              "\n",
              "    .colab-df-convert {\n",
              "      background-color: #E8F0FE;\n",
              "      border: none;\n",
              "      border-radius: 50%;\n",
              "      cursor: pointer;\n",
              "      display: none;\n",
              "      fill: #1967D2;\n",
              "      height: 32px;\n",
              "      padding: 0 0 0 0;\n",
              "      width: 32px;\n",
              "    }\n",
              "\n",
              "    .colab-df-convert:hover {\n",
              "      background-color: #E2EBFA;\n",
              "      box-shadow: 0px 1px 2px rgba(60, 64, 67, 0.3), 0px 1px 3px 1px rgba(60, 64, 67, 0.15);\n",
              "      fill: #174EA6;\n",
              "    }\n",
              "\n",
              "    [theme=dark] .colab-df-convert {\n",
              "      background-color: #3B4455;\n",
              "      fill: #D2E3FC;\n",
              "    }\n",
              "\n",
              "    [theme=dark] .colab-df-convert:hover {\n",
              "      background-color: #434B5C;\n",
              "      box-shadow: 0px 1px 3px 1px rgba(0, 0, 0, 0.15);\n",
              "      filter: drop-shadow(0px 1px 2px rgba(0, 0, 0, 0.3));\n",
              "      fill: #FFFFFF;\n",
              "    }\n",
              "  </style>\n",
              "\n",
              "      <script>\n",
              "        const buttonEl =\n",
              "          document.querySelector('#df-4aaca724-e707-4ffa-8a55-ddbce54318da button.colab-df-convert');\n",
              "        buttonEl.style.display =\n",
              "          google.colab.kernel.accessAllowed ? 'block' : 'none';\n",
              "\n",
              "        async function convertToInteractive(key) {\n",
              "          const element = document.querySelector('#df-4aaca724-e707-4ffa-8a55-ddbce54318da');\n",
              "          const dataTable =\n",
              "            await google.colab.kernel.invokeFunction('convertToInteractive',\n",
              "                                                     [key], {});\n",
              "          if (!dataTable) return;\n",
              "\n",
              "          const docLinkHtml = 'Like what you see? Visit the ' +\n",
              "            '<a target=\"_blank\" href=https://colab.research.google.com/notebooks/data_table.ipynb>data table notebook</a>'\n",
              "            + ' to learn more about interactive tables.';\n",
              "          element.innerHTML = '';\n",
              "          dataTable['output_type'] = 'display_data';\n",
              "          await google.colab.output.renderOutput(dataTable, element);\n",
              "          const docLink = document.createElement('div');\n",
              "          docLink.innerHTML = docLinkHtml;\n",
              "          element.appendChild(docLink);\n",
              "        }\n",
              "      </script>\n",
              "    </div>\n",
              "  </div>\n",
              "  "
            ]
          },
          "metadata": {},
          "execution_count": 61
        }
      ]
    },
    {
      "cell_type": "code",
      "source": [
        "print(tips['total_bill'].unique())"
      ],
      "metadata": {
        "colab": {
          "base_uri": "https://localhost:8080/"
        },
        "id": "YqZgjd9R80V4",
        "outputId": "0d874aba-9d94-452d-b628-22d012fc53ed"
      },
      "execution_count": null,
      "outputs": [
        {
          "output_type": "stream",
          "name": "stdout",
          "text": [
            "[16.99 10.34 21.01 23.68 24.59 25.29  8.77 26.88 15.04 14.78 10.27 35.26\n",
            " 15.42 18.43 14.83 21.58 10.33 16.29 16.97 20.65 17.92 20.29 15.77 39.42\n",
            " 19.82 17.81 13.37 12.69 21.7  19.65  9.55 18.35 15.06 20.69 17.78 24.06\n",
            " 16.31 16.93 18.69 31.27 16.04 17.46 13.94  9.68 30.4  18.29 22.23 32.4\n",
            " 28.55 18.04 12.54 10.29 34.81  9.94 25.56 19.49 38.01 26.41 11.24 48.27\n",
            " 13.81 11.02 17.59 20.08 16.45  3.07 20.23 15.01 12.02 17.07 26.86 25.28\n",
            " 14.73 10.51 27.2  22.76 17.29 19.44 16.66 10.07 32.68 15.98 34.83 13.03\n",
            " 18.28 24.71 21.16 28.97 22.49  5.75 16.32 22.75 40.17 27.28 12.03 12.46\n",
            " 11.35 15.38 44.3  22.42 20.92 15.36 20.49 25.21 18.24 14.31 14.    7.25\n",
            " 38.07 23.95 25.71 17.31 29.93 10.65 12.43 24.08 11.69 13.42 14.26 15.95\n",
            " 12.48 29.8   8.52 14.52 11.38 22.82 19.08 20.27 11.17 12.26 18.26  8.51\n",
            " 14.15 16.   13.16 17.47 34.3  41.19 27.05 16.43  8.35 18.64 11.87  9.78\n",
            "  7.51 14.07 13.13 17.26 24.55 19.77 29.85 48.17 25.   13.39 16.49 21.5\n",
            " 12.66 16.21 17.51 24.52 20.76 31.71 10.59 10.63 50.81 15.81 31.85 16.82\n",
            " 32.9  17.89 14.48  9.6  34.63 34.65 23.33 45.35 23.17 40.55 20.9  30.46\n",
            " 18.15 23.1  15.69 19.81 28.44 15.48 16.58  7.56 43.11 13.   13.51 18.71\n",
            " 12.74 16.4  20.53 16.47 26.59 38.73 24.27 12.76 30.06 25.89 48.33 13.27\n",
            " 28.17 12.9  28.15 11.59  7.74 30.14 12.16  8.58 16.27 10.09 20.45 13.28\n",
            " 22.12 24.01 11.61 10.77 15.53 12.6  32.83 35.83 29.03 27.18 22.67 17.82\n",
            " 18.78]\n"
          ]
        }
      ]
    },
    {
      "cell_type": "code",
      "source": [
        "print(tips['size'].unique())"
      ],
      "metadata": {
        "colab": {
          "base_uri": "https://localhost:8080/"
        },
        "id": "2YZKV6_A8_IL",
        "outputId": "7d9764a1-7934-4d70-8a24-db30cb738c28"
      },
      "execution_count": null,
      "outputs": [
        {
          "output_type": "stream",
          "name": "stdout",
          "text": [
            "[2 3 4 1 6 5]\n"
          ]
        }
      ]
    },
    {
      "cell_type": "code",
      "source": [
        "## Bir DataFrame'deki belirli bir sütundaki tüm değerlerin ortalamasını nasıl\n",
        "hesaplayabilirsiniz?\n"
      ],
      "metadata": {
        "id": "Wt8IL05G8fzj"
      },
      "execution_count": null,
      "outputs": []
    },
    {
      "cell_type": "code",
      "source": [
        "import pandas as pd\n",
        "\n",
        "# DataFrame'i oluştur\n",
        "df = pd.DataFrame({'A': [1, 2, 3], 'B': [4.0, 5.0, 6.0], 'C': [7, 8, 9]})\n",
        "\n",
        "# 'B' sütunundaki değerlerin ortalamasını yazdır\n",
        "print(df['B'].mean())\n",
        "\n"
      ],
      "metadata": {
        "id": "XQougTg-8sT7",
        "colab": {
          "base_uri": "https://localhost:8080/"
        },
        "outputId": "5da5d9ec-eae5-47b1-cabd-371815418604"
      },
      "execution_count": null,
      "outputs": [
        {
          "output_type": "stream",
          "name": "stdout",
          "text": [
            "5.0\n"
          ]
        },
        {
          "output_type": "execute_result",
          "data": {
            "text/plain": [
              "5.0"
            ]
          },
          "metadata": {},
          "execution_count": 64
        }
      ]
    },
    {
      "cell_type": "code",
      "source": [
        "#Bir DataFrame'deki belirli bir sütundaki tüm değerlerin standart sapmasını nasıl\n",
        "hesaplayabilirsiniz?\n"
      ],
      "metadata": {
        "id": "ipCBW46985dZ"
      },
      "execution_count": null,
      "outputs": []
    },
    {
      "cell_type": "code",
      "source": [
        "import pandas as pd\n",
        "\n",
        "# DataFrame'i oluştur\n",
        "df = pd.DataFrame({'A': [1, 2, 3], 'B': [4.0, 5.0, 6.0], 'C': [7, 8, 9]})\n",
        "\n",
        "# 'C' sütunundaki değerlerin standart sapmasını yazdır\n",
        "print(df['C'].std())\n",
        "\n"
      ],
      "metadata": {
        "id": "1ofXHpin_cTJ",
        "colab": {
          "base_uri": "https://localhost:8080/"
        },
        "outputId": "0841adb5-4464-4bbf-b916-dba245be6905"
      },
      "execution_count": null,
      "outputs": [
        {
          "output_type": "stream",
          "name": "stdout",
          "text": [
            "1.0\n"
          ]
        },
        {
          "output_type": "execute_result",
          "data": {
            "text/plain": [
              "1.0"
            ]
          },
          "metadata": {},
          "execution_count": 65
        }
      ]
    },
    {
      "cell_type": "code",
      "source": [
        "## Bir DataFrame'deki belirli bir sütunun en büyük değerini nasıl\n",
        "bulabilirsiniz?(total_bill icin yapiniz)"
      ],
      "metadata": {
        "id": "64gvaHMo_riq"
      },
      "execution_count": null,
      "outputs": []
    },
    {
      "cell_type": "code",
      "source": [
        "import pandas as pd\n",
        "\n",
        "# tips veri kümesini yükle\n",
        "tips = pd.read_csv('tips.csv')\n",
        "\n",
        "# 'total_bill' sütunundaki en büyük değeri yazdır\n",
        "print(tips['total_bill'].max())\n",
        "\n"
      ],
      "metadata": {
        "id": "dlHA0Ujr_96e"
      },
      "execution_count": null,
      "outputs": []
    },
    {
      "cell_type": "code",
      "source": [
        "import seaborn as sns\n",
        "\n",
        "# 'tips' veri kümesini yükle\n",
        "tips = sns.load_dataset('tips')\n",
        "\n",
        "# 'total_bill' sütunundaki en büyük değeri yazdır\n",
        "print(tips['total_bill'].max())"
      ],
      "metadata": {
        "colab": {
          "base_uri": "https://localhost:8080/"
        },
        "id": "EJT1y3XIu8hA",
        "outputId": "5e465726-c9d9-41fb-ace7-230985ce4776"
      },
      "execution_count": null,
      "outputs": [
        {
          "output_type": "stream",
          "name": "stdout",
          "text": [
            "50.81\n"
          ]
        }
      ]
    },
    {
      "cell_type": "code",
      "source": [
        "## Bir DataFrame'deki belirli bir sütunun en küçük değerini nasıl bulabilirsiniz?(tip\n",
        "sutunu icin yapiniz)"
      ],
      "metadata": {
        "id": "GKA7PYqMAg_V"
      },
      "execution_count": null,
      "outputs": []
    },
    {
      "cell_type": "code",
      "source": [
        "import pandas as pd\n",
        "\n",
        "# tips veri kümesini yükle\n",
        "tips = pd.read_csv('tips.csv')\n",
        "\n",
        "# 'tip' sütunundaki en küçük değeri yazdır\n",
        "print(tips['tip'].min())\n"
      ],
      "metadata": {
        "id": "hXXAFx1SAhij"
      },
      "execution_count": null,
      "outputs": []
    },
    {
      "cell_type": "code",
      "source": [
        "#Eğer tips.csv dosyası mevcut değilse, aşağıdaki kod örneği ile 'seaborn' kütüphanesinde yer alan 'tips' veri kümesi kullanılabilir:\n",
        "\n",
        "import seaborn as sns\n",
        "\n",
        "# 'tips' veri kümesini yükle\n",
        "tips = sns.load_dataset('tips')\n",
        "\n",
        "# 'tip' sütunundaki en küçük değeri yazdır\n",
        "print(tips['tip'].min())\n"
      ],
      "metadata": {
        "id": "ebJDDVCXAjEO",
        "colab": {
          "base_uri": "https://localhost:8080/"
        },
        "outputId": "86bb9ac7-233d-4709-db69-3dcfc73d5ac4"
      },
      "execution_count": null,
      "outputs": [
        {
          "output_type": "stream",
          "name": "stdout",
          "text": [
            "1.0\n"
          ]
        }
      ]
    },
    {
      "cell_type": "code",
      "source": [
        "## Bir DataFrame'deki belirli bir sütundaki değerlerin sayısını nasıl\n",
        "hesaplayabilirsiniz?(count method)\n"
      ],
      "metadata": {
        "id": "c5zeRzO6BE3V"
      },
      "execution_count": null,
      "outputs": []
    },
    {
      "cell_type": "code",
      "source": [
        "import pandas as pd\n",
        "\n",
        "# tips veri kümesini yükle\n",
        "tips = pd.read_csv('tips.csv')\n",
        "\n",
        "# 'total_bill' sütunundaki değerlerin sayısını yazdır\n",
        "print(tips['total_bill'].count())\n"
      ],
      "metadata": {
        "id": "sOgT4jy0BL_K"
      },
      "execution_count": null,
      "outputs": []
    },
    {
      "cell_type": "code",
      "source": [
        "#Eğer tips.csv dosyası mevcut değilse, aşağıdaki kod örneği ile 'seaborn' kütüphanesinde yer alan 'tips' veri kümesi kullanılabilir:"
      ],
      "metadata": {
        "id": "HdJrbd4sBVWr"
      },
      "execution_count": null,
      "outputs": []
    },
    {
      "cell_type": "code",
      "source": [
        "import seaborn as sns\n",
        "\n",
        "# 'tips' veri kümesini yükle\n",
        "tips = sns.load_dataset('tips')\n",
        "\n",
        "# 'total_bill' sütunundaki değerlerin sayısını yazdır\n",
        "print(tips['total_bill'].count())\n"
      ],
      "metadata": {
        "id": "N47f49c8BX6x",
        "colab": {
          "base_uri": "https://localhost:8080/"
        },
        "outputId": "59f2c19d-a1c0-4485-cb6c-f3a27d312e87"
      },
      "execution_count": null,
      "outputs": [
        {
          "output_type": "stream",
          "name": "stdout",
          "text": [
            "244\n"
          ]
        }
      ]
    },
    {
      "cell_type": "code",
      "source": [
        "## Bir DataFrame'deki belirli bir sütunun medyanını nasıl hesaplayabilirsiniz?(median)"
      ],
      "metadata": {
        "id": "Is5RcPdFBaqI"
      },
      "execution_count": null,
      "outputs": []
    },
    {
      "cell_type": "code",
      "source": [
        "import pandas as pd\n",
        "\n",
        "# tips veri kümesini yükle\n",
        "tips = pd.read_csv('tips.csv')\n",
        "\n",
        "# 'tip' sütununun medyanını yazdır\n",
        "print(tips['tip'].median())\n"
      ],
      "metadata": {
        "id": "2QSdhFfSBn9T"
      },
      "execution_count": null,
      "outputs": []
    },
    {
      "cell_type": "code",
      "source": [
        "#Eğer tips.csv dosyası mevcut değilse, aşağıdaki kod örneği ile 'seaborn' kütüphanesinde yer alan 'tips' veri kümesi kullanılabilir:\n",
        "\n",
        "import seaborn as sns\n",
        "\n",
        "# 'tips' veri kümesini yükle\n",
        "tips = sns.load_dataset('tips')\n",
        "\n",
        "# 'tip' sütununun medyanını yazdır\n",
        "print(tips['tip'].median())\n"
      ],
      "metadata": {
        "id": "3TeG7afeBs4_",
        "colab": {
          "base_uri": "https://localhost:8080/"
        },
        "outputId": "2b0cf820-ba7c-48da-cd3a-1f910011c008"
      },
      "execution_count": null,
      "outputs": [
        {
          "output_type": "stream",
          "name": "stdout",
          "text": [
            "2.9\n"
          ]
        }
      ]
    },
    {
      "cell_type": "code",
      "source": [
        "## Bir DataFrame'deki belirli bir sütundaki en sık tekrar eden değeri nasıl\n",
        "bulabilirsiniz?(mode kullaniniz)\n"
      ],
      "metadata": {
        "id": "9Hy9lQQwB51W"
      },
      "execution_count": null,
      "outputs": []
    },
    {
      "cell_type": "code",
      "source": [
        "import pandas as pd\n",
        "\n",
        "# tips veri kümesini yükle\n",
        "tips = pd.read_csv('tips.csv')\n",
        "\n",
        "# 'sex' sütunundaki en sık tekrar eden değeri yazdır\n",
        "print(tips['sex'].mode()[0])\n",
        "\n",
        "#Eğer tips.csv dosyası mevcut değilse, aşağıdaki kod örneği ile 'seaborn' kütüphanesinde yer alan 'tips' veri kümesi kullanılabilir:\n"
      ],
      "metadata": {
        "id": "kcyY2f8GCD7g"
      },
      "execution_count": null,
      "outputs": []
    },
    {
      "cell_type": "code",
      "source": [
        "import seaborn as sns\n",
        "\n",
        "# 'tips' veri kümesini yükle\n",
        "tips = sns.load_dataset('tips')\n",
        "\n",
        "# 'sex' sütunundaki en sık tekrar eden değeri yazdır\n",
        "print(tips['sex'].mode()[0])"
      ],
      "metadata": {
        "colab": {
          "base_uri": "https://localhost:8080/"
        },
        "id": "sdPad1xD-EaS",
        "outputId": "a0721cbd-093f-4a95-89bc-246bc38df758"
      },
      "execution_count": null,
      "outputs": [
        {
          "output_type": "stream",
          "name": "stdout",
          "text": [
            "Male\n"
          ]
        }
      ]
    },
    {
      "cell_type": "code",
      "source": [
        "## Bir DataFrame'deki belirli bir sütunu küçükten büyüğe nasıl sıralayabilirsiniz?"
      ],
      "metadata": {
        "id": "X8cTGnU2CZ8C"
      },
      "execution_count": null,
      "outputs": []
    },
    {
      "cell_type": "code",
      "source": [
        "import pandas as pd\n",
        "\n",
        "# tips veri kümesini yükle\n",
        "tips = pd.read_csv('tips.csv')\n",
        "\n",
        "# 'total_bill' sütununu küçükten büyüğe sırala\n",
        "tips_sorted = tips.sort_values(by='total_bill')\n",
        "\n",
        "# sıralanmış verileri yazdır\n",
        "print(tips_sorted['total_bill'])\n",
        "\n",
        "## Bir DataFrame'deki belirli bir sütunu büyükten küçüğe nasıl sıralayabilirsiniz?\n",
        "\n",
        "# 'total_bill' sütununu büyükten küçüğe sırala\n",
        "tips_sorted = tips.sort_values(by='total_bill', ascending=False)\n"
      ],
      "metadata": {
        "id": "XoZJGjPLCvMo"
      },
      "execution_count": null,
      "outputs": []
    },
    {
      "cell_type": "code",
      "source": [
        "## Bir DataFrame'deki belirli bir sütunda belirli bir koşulu sağlayan değerleri nasıl\n",
        "seçebilirsiniz?(tip>2 icin sorgulayin)"
      ],
      "metadata": {
        "id": "w3B2wCIZDGWA"
      },
      "execution_count": null,
      "outputs": []
    },
    {
      "cell_type": "code",
      "source": [
        "import pandas as pd\n",
        "\n",
        "# tips veri kümesini yükle\n",
        "tips = pd.read_csv('tips.csv')\n",
        "\n",
        "# tip sütununda 2'den büyük olan değerleri seç\n",
        "mask = tips['tip'] > 2\n",
        "selected_rows = tips[mask]\n",
        "\n",
        "# seçilmiş satırları yazdır\n",
        "print(selected_rows)\n",
        "\n",
        "#Teşekkürler :)"
      ],
      "metadata": {
        "id": "ryG7Bi5wDZbj"
      },
      "execution_count": null,
      "outputs": []
    }
  ]
}